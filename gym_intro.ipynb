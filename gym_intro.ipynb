{
 "cells": [
  {
   "cell_type": "markdown",
   "id": "706d7595-84bd-46a5-a94f-502426685e51",
   "metadata": {},
   "source": [
    "# pip install gym\n",
    "# pip install pygame\n",
    "\n",
    "# pip install numpy==1.23.5"
   ]
  },
  {
   "cell_type": "code",
   "execution_count": 41,
   "id": "64e3ae0d-27c2-4741-a15e-e50976724e27",
   "metadata": {},
   "outputs": [],
   "source": [
    "import gym"
   ]
  },
  {
   "cell_type": "code",
   "execution_count": 43,
   "id": "edf15cae-34e5-4b84-ae1b-8a6573413b5b",
   "metadata": {},
   "outputs": [],
   "source": [
    "# render_mode ['human' -> Show The Game ,  'rgb_array' -> do not Show The Game]\n",
    "\n",
    "# is_slippery ['False' -> Deterministic Environment , 'Ture' -> Stochastic Environment ]\n",
    "\n",
    "# Games ['FrozenLake-v1' , 'CartPole-v1']\n",
    "\n",
    "env= gym.make('FrozenLake-v1', render_mode='human', is_slippery=False)"
   ]
  },
  {
   "cell_type": "code",
   "execution_count": 45,
   "id": "52c55f81-840c-4527-9d85-94e23cd730f8",
   "metadata": {},
   "outputs": [
    {
     "name": "stdout",
     "output_type": "stream",
     "text": [
      "(0, {'prob': 1})\n"
     ]
    }
   ],
   "source": [
    "# Reset agent For First State [0] in Our Environment\n",
    "\n",
    "cur_state = env.reset()\n",
    "print(cur_state)"
   ]
  },
  {
   "cell_type": "code",
   "execution_count": 46,
   "id": "2a386c16-fd4c-49e5-9f4d-898f43774abd",
   "metadata": {},
   "outputs": [
    {
     "name": "stdout",
     "output_type": "stream",
     "text": [
      "num_States :  16\n"
     ]
    }
   ],
   "source": [
    "# num of States in Our Environment\n",
    "\n",
    "print(\"num_States : \" , env.observation_space.n)"
   ]
  },
  {
   "cell_type": "code",
   "execution_count": 47,
   "id": "be9ff643-33b4-4afe-ac2a-4ba03fc9a01e",
   "metadata": {},
   "outputs": [
    {
     "name": "stdout",
     "output_type": "stream",
     "text": [
      "num_States:  4\n"
     ]
    }
   ],
   "source": [
    "# num of Actions in Our Environment\n",
    "\n",
    "print(\"num_States: \",env.action_space.n)"
   ]
  },
  {
   "cell_type": "code",
   "execution_count": 51,
   "id": "bef74c49-ab48-4b7c-8f68-fd07dd9e6ce3",
   "metadata": {},
   "outputs": [],
   "source": [
    "#env.close()"
   ]
  },
  {
   "cell_type": "code",
   "execution_count": 53,
   "id": "39432255-a615-474b-8151-dad3dddc676a",
   "metadata": {},
   "outputs": [
    {
     "name": "stdout",
     "output_type": "stream",
     "text": [
      "Probability: [(1.0, 7, 0.0, True)]\n"
     ]
    }
   ],
   "source": [
    "# Returns The Probability of going To Each State (Stochastic Environment)\n",
    "\n",
    "#   0 --> Left\n",
    "#   1 --> Down\n",
    "#   2 --> Right\n",
    "#   3 --> Up\n",
    "\n",
    "                  # env.P[State][Action]\n",
    "print(\"Probability:\" , env.P[6][2])\n",
    "#env.close()"
   ]
  },
  {
   "cell_type": "code",
   "execution_count": 55,
   "id": "22613d1f-fad3-42c1-b0e7-ad452b4afec5",
   "metadata": {},
   "outputs": [
    {
     "name": "stdout",
     "output_type": "stream",
     "text": [
      "(1, 0.0, False, False, {'prob': 1.0})\n"
     ]
    }
   ],
   "source": [
    "#   0 --> Left\n",
    "#   1 --> Down\n",
    "#   2 --> Right\n",
    "#   3 --> Up\n",
    "\n",
    "state = env.step(2)\n",
    "env.render()\n",
    "\n",
    "## RETURN (Next_state, Reward, Terminated, Truncated, Trans_prob to  new_State )\n",
    "# Done = if ( Truncated or Terminated) -> True\n",
    "\n",
    "# Terminated -> if this Next_state is Terminal State ?\n",
    "# Truncated  -> if Agent Finished The Time\n",
    "print(state)\n",
    "#env.close()"
   ]
  },
  {
   "cell_type": "code",
   "execution_count": 57,
   "id": "617384ad-9fe2-4b52-8540-cfb8a78c75bd",
   "metadata": {},
   "outputs": [
    {
     "name": "stdout",
     "output_type": "stream",
     "text": [
      "1\n"
     ]
    }
   ],
   "source": [
    "# sample Random Action\n",
    "\n",
    "\n",
    "random_action = env.action_space.sample() # --> int\n",
    "\n",
    "\n",
    "#   0 --> Left\n",
    "#   1 --> Down\n",
    "#   2 --> Right\n",
    "#   3 --> Up\n",
    "\n",
    "print(random_action)"
   ]
  },
  {
   "cell_type": "code",
   "execution_count": 63,
   "id": "24697b87-34c9-43c7-b547-a95ee8837b36",
   "metadata": {},
   "outputs": [
    {
     "name": "stdout",
     "output_type": "stream",
     "text": [
      "Time Step 0 :\n",
      "Time Step 1 : \n",
      "Time Step 2 : \n",
      "Time Step 3 : \n",
      "Time Step 4 : \n",
      "Time Step 5 : \n",
      "Time Step 6 : \n",
      "Time Step 7 : \n",
      "Time Step 8 : \n",
      "Time Step 9 : \n",
      "Time Step 10 : \n",
      "Time Step 11 : \n",
      "Time Step 12 : \n",
      "Time Step 13 : \n",
      "Time Step 14 : \n",
      "Time Step 15 : \n",
      "Time Step 16 : \n"
     ]
    }
   ],
   "source": [
    "\n",
    "# genrate a Random Episode\n",
    "\n",
    "state = env.reset()\n",
    "print('Time Step 0 :')\n",
    "\n",
    "env.render()\n",
    "\n",
    "#Maxmium Num Steps Can Agent Taken\n",
    "num_timesteps = 50\n",
    "\n",
    "for t in range(num_timesteps):\n",
    "  random_action = env.action_space.sample()\n",
    "  new_state, reward, truncation, termination , info = env.step(random_action)\n",
    "\n",
    "  print('Time Step {} : '.format(t+1))\n",
    "  env.render()\n",
    "\n",
    "  done = truncation or termination\n",
    "  if done:\n",
    "    break\n",
    "\n"
   ]
  },
  {
   "cell_type": "code",
   "execution_count": 61,
   "id": "96395191-6447-4ba5-b4f1-e32338346bcd",
   "metadata": {},
   "outputs": [],
   "source": [
    "#env.close()"
   ]
  },
  {
   "cell_type": "code",
   "execution_count": null,
   "id": "5195698d-2b69-43c0-8ff5-5b391ee67de5",
   "metadata": {},
   "outputs": [],
   "source": []
  }
 ],
 "metadata": {
  "kernelspec": {
   "display_name": "Python 3 (ipykernel)",
   "language": "python",
   "name": "python3"
  },
  "language_info": {
   "codemirror_mode": {
    "name": "ipython",
    "version": 3
   },
   "file_extension": ".py",
   "mimetype": "text/x-python",
   "name": "python",
   "nbconvert_exporter": "python",
   "pygments_lexer": "ipython3",
   "version": "3.11.5"
  }
 },
 "nbformat": 4,
 "nbformat_minor": 5
}
